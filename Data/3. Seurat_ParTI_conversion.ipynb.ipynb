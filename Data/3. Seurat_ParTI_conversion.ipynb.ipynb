{
 "cells": [
  {
   "cell_type": "markdown",
   "metadata": {},
   "source": [
    "# Generating ParTI compatable data \n",
    "ParTI requires quite a specific input format of data.\n",
    "- expression matrix as pure numerical matrix, rows = cells, columns = genes \n",
    "- list of gene names (in the order they appear)\n",
    "- discrete clinical attributes \n"
   ]
  },
  {
   "cell_type": "code",
   "execution_count": 5,
   "metadata": {},
   "outputs": [],
   "source": [
    "import pandas as pd\n",
    "from scipy.io import mmread, mmwrite\n",
    "from scipy.sparse import csr_matrix\n",
    "import os\n",
    "import scanpy as sc  # For reading AnnData objects\n",
    "import numpy as np\n"
   ]
  },
  {
   "cell_type": "code",
   "execution_count": 3,
   "metadata": {},
   "outputs": [],
   "source": [
    "# loading adata_path\n",
    "adata_path = r\"C:\\Users\\DG1\\Desktop\\DALLAB\\Experimenting\\Data\\Antibiotic resistance\\BacDrop\\further processing\\adata_balanced_gentamicin_distribution_min_per_bin.h5ad\""
   ]
  },
  {
   "cell_type": "code",
   "execution_count": 6,
   "metadata": {},
   "outputs": [
    {
     "name": "stdout",
     "output_type": "stream",
     "text": [
      "ParTI-compatible files generated:\n",
      " - ParTI_expression_matrix.csv\n",
      " - ParTI_gene_names.txt\n",
      " - ParTI_discrete_attributes.csv\n"
     ]
    }
   ],
   "source": [
    "# Define a hard-coded date string to append to all output files\n",
    "date = \"1507\"  #DDMM\n",
    "\n",
    "# Load the AnnData object\n",
    "adata = sc.read_h5ad(adata_path)\n",
    "\n",
    "# 1. Expression matrix: rows = cells, columns = genes (pure numerical matrix)\n",
    "# If sparse, convert to dense\n",
    "if isinstance(adata.X, np.ndarray):\n",
    "    expr_matrix = adata.X\n",
    "else:\n",
    "    expr_matrix = adata.X.toarray()\n",
    "\n",
    "# 2. List of gene names (in the order they appear)\n",
    "gene_names = adata.var_names.tolist()\n",
    "\n",
    "# 3. Discrete clinical attributes (from adata.obs)\n",
    "# We'll select all categorical columns (object or category dtype)\n",
    "discrete_cols = [col for col in adata.obs.columns if adata.obs[col].dtype.name in ['category', 'object']]\n",
    "discrete_attributes = adata.obs[discrete_cols].copy()\n",
    "\n",
    "# Save outputs in ParTI-compatible format, appending the date string to filenames\n",
    "# Expression matrix as .csv (cells x genes)\n",
    "expr_df = pd.DataFrame(expr_matrix, columns=gene_names)\n",
    "expr_df.to_csv(f\"ParTI_expression_matrix_{date}.csv\", index=False)\n",
    "\n",
    "# Gene names as .txt (one per line)\n",
    "with open(f\"ParTI_gene_names_{date}.txt\", \"w\") as f:\n",
    "    for g in gene_names:\n",
    "        f.write(f\"{g}\\n\")\n",
    "\n",
    "# Discrete attributes as .csv\n",
    "discrete_attributes.to_csv(f\"ParTI_discrete_attributes_{date}.csv\", index=False)\n",
    "\n",
    "print(\"ParTI-compatible files generated:\")\n",
    "print(\" - ParTI_expression_matrix.csv\")\n",
    "print(\" - ParTI_gene_names.txt\")\n",
    "print(\" - ParTI_discrete_attributes.csv\")\n"
   ]
  },
  {
   "cell_type": "markdown",
   "metadata": {},
   "source": [
    "Loading cell expression matrix as a csv"
   ]
  }
 ],
 "metadata": {
  "kernelspec": {
   "display_name": "base",
   "language": "python",
   "name": "python3"
  },
  "language_info": {
   "codemirror_mode": {
    "name": "ipython",
    "version": 3
   },
   "file_extension": ".py",
   "mimetype": "text/x-python",
   "name": "python",
   "nbconvert_exporter": "python",
   "pygments_lexer": "ipython3",
   "version": "3.12.3"
  }
 },
 "nbformat": 4,
 "nbformat_minor": 2
}
